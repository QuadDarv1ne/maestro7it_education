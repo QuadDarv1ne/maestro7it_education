{
 "cells": [
  {
   "cell_type": "code",
   "execution_count": null,
   "metadata": {},
   "outputs": [
    {
     "ename": "ModuleNotFoundError",
     "evalue": "No module named 'utils.data_loader'",
     "output_type": "error",
     "traceback": [
      "\u001b[31m---------------------------------------------------------------------------\u001b[39m",
      "\u001b[31mModuleNotFoundError\u001b[39m                       Traceback (most recent call last)",
      "\u001b[36mCell\u001b[39m\u001b[36m \u001b[39m\u001b[32mIn[1]\u001b[39m\u001b[32m, line 25\u001b[39m\n\u001b[32m     23\u001b[39m \u001b[38;5;28;01mimport\u001b[39;00m\u001b[38;5;250m \u001b[39m\u001b[34;01mplotly\u001b[39;00m\u001b[34;01m.\u001b[39;00m\u001b[34;01mexpress\u001b[39;00m\u001b[38;5;250m \u001b[39m\u001b[38;5;28;01mas\u001b[39;00m\u001b[38;5;250m \u001b[39m\u001b[34;01mpx\u001b[39;00m\n\u001b[32m     24\u001b[39m \u001b[38;5;28;01mfrom\u001b[39;00m\u001b[38;5;250m \u001b[39m\u001b[34;01mipywidgets\u001b[39;00m\u001b[38;5;250m \u001b[39m\u001b[38;5;28;01mimport\u001b[39;00m interact\n\u001b[32m---> \u001b[39m\u001b[32m25\u001b[39m \u001b[38;5;28;01mfrom\u001b[39;00m\u001b[38;5;250m \u001b[39m\u001b[34;01mutils\u001b[39;00m\u001b[34;01m.\u001b[39;00m\u001b[34;01mdata_loader\u001b[39;00m\u001b[38;5;250m \u001b[39m\u001b[38;5;28;01mimport\u001b[39;00m load_un_population\n\u001b[32m     27\u001b[39m \u001b[38;5;66;03m# %%\u001b[39;00m\n\u001b[32m     28\u001b[39m \u001b[38;5;28;01mdef\u001b[39;00m\u001b[38;5;250m \u001b[39m\u001b[34mcreate_population_dashboard\u001b[39m(countries: \u001b[38;5;28mlist\u001b[39m) -> \u001b[38;5;28;01mNone\u001b[39;00m:\n",
      "\u001b[31mModuleNotFoundError\u001b[39m: No module named 'utils.data_loader'"
     ]
    }
   ],
   "source": [
    "# -*- coding: utf-8 -*-\n",
    "\"\"\"\n",
    "Демография (ООН)\n",
    "\n",
    "Прогноз численности населения по данным ООН (2020-2025)\n",
    "\n",
    "Особенности:\n",
    "1. Интерактивный выбор стран\n",
    "2. Динамическая визуализация\n",
    "3. Сравнительный анализ\n",
    "\"\"\"\n",
    "\n",
    "# %%\n",
    "import sys\n",
    "import os\n",
    "\n",
    "# Подняться на один уровень выше для доступа к utils\n",
    "module_path = os.path.abspath(os.path.join('..'))\n",
    "if module_path not in sys.path:\n",
    "    sys.path.append(module_path)\n",
    "\n",
    "import pandas as pd\n",
    "import plotly.express as px\n",
    "from ipywidgets import interact\n",
    "from src.data_loader import load_un_population\n",
    "\n",
    "# %%\n",
    "def create_population_dashboard(countries: list) -> None:\n",
    "    \"\"\"\n",
    "    Создание интерактивной демографической панели\n",
    "\n",
    "    Параметры:\n",
    "    countries : list of str\n",
    "        Список стран для анализа\n",
    "    \"\"\"\n",
    "    df = load_un_population(countries)\n",
    "    df = df[df['Year'].between(2020, 2025)]\n",
    "    \n",
    "    fig = px.line(\n",
    "        df,\n",
    "        x='Year',\n",
    "        y='Population',\n",
    "        color='Country',\n",
    "        markers=True,\n",
    "        title=\"Прогноз численности населения\",\n",
    "        labels={'Population': 'Население', 'Year': 'Год'}\n",
    "    )\n",
    "    \n",
    "    fig.update_layout(\n",
    "        hovermode=\"x unified\",\n",
    "        template=\"plotly_white\",\n",
    "        height=600\n",
    "    )\n",
    "    \n",
    "    fig.show()\n",
    "\n",
    "# %%\n",
    "@interact\n",
    "def select_countries():\n",
    "    \"\"\"Интерактивный виджет для выбора стран\"\"\"\n",
    "    all_countries = load_un_population()['Country'].unique().tolist()\n",
    "    return interact(\n",
    "        create_population_dashboard,\n",
    "        countries=all_countries\n",
    "    )"
   ]
  }
 ],
 "metadata": {
  "kernelspec": {
   "display_name": ".venv",
   "language": "python",
   "name": "python3"
  },
  "language_info": {
   "codemirror_mode": {
    "name": "ipython",
    "version": 3
   },
   "file_extension": ".py",
   "mimetype": "text/x-python",
   "name": "python",
   "nbconvert_exporter": "python",
   "pygments_lexer": "ipython3",
   "version": "3.13.2"
  }
 },
 "nbformat": 4,
 "nbformat_minor": 2
}
