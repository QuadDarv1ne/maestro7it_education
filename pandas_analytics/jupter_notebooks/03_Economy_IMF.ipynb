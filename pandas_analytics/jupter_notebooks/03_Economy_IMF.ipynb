{
 "cells": [
  {
   "cell_type": "code",
   "execution_count": 6,
   "metadata": {},
   "outputs": [
    {
     "name": "stderr",
     "output_type": "stream",
     "text": [
      "ERROR:src.data_loader:Ошибка загрузки данных МВФ: 'countries'\n"
     ]
    },
    {
     "name": "stdout",
     "output_type": "stream",
     "text": [
      "Ошибка: 'countries'\n"
     ]
    }
   ],
   "source": [
    "# -*- coding: utf-8 -*-\n",
    "\"\"\"\n",
    "Анализ экономических прогнозов МВФ (2020-2025)\n",
    "\n",
    "Источник данных: IMF DataMapper API\n",
    "Особенности:\n",
    "- Динамическая загрузка данных через API\n",
    "- Интерактивная визуализация\n",
    "- Сравнение стран\n",
    "\"\"\"\n",
    "\n",
    "# -*- coding: utf-8 -*-\n",
    "\"\"\"\n",
    "Анализ экономических прогнозов МВФ (2020-2025)\n",
    "\"\"\"\n",
    "\n",
    "import sys\n",
    "import os\n",
    "import plotly.express as px\n",
    "\n",
    "# Исправленный путь\n",
    "sys.path.append(os.path.abspath(os.path.join('..', 'src')))\n",
    "\n",
    "from src.data_loader import DataLoader\n",
    "\n",
    "def main():\n",
    "    \"\"\"Основная функция анализа экономических данных\"\"\"\n",
    "    # Инициализация загрузчика\n",
    "    loader = DataLoader()\n",
    "    \n",
    "    # Пример списка стран (коды ISO 3166-1 alpha-3)\n",
    "    countries = [\"USA\", \"CHN\", \"IND\", \"DEU\", \"JPN\", \"RUS\"]\n",
    "    \n",
    "    try:\n",
    "        # Загрузка данных\n",
    "        gdp_data = loader.load_gdp(countries)\n",
    "        \n",
    "        # Визуализация\n",
    "        fig = px.line(\n",
    "            gdp_data,\n",
    "            x='Year',\n",
    "            y='GDP_Growth',\n",
    "            color='Country',\n",
    "            title='Прогноз роста ВВП (МВФ 2023)',\n",
    "            labels={'GDP_Growth': 'Рост ВВП, %'},\n",
    "            markers=True,\n",
    "            line_dash_sequence=['solid'],\n",
    "            template='ggplot2'\n",
    "        )\n",
    "        \n",
    "        fig.update_layout(\n",
    "            hovermode=\"x unified\",\n",
    "            height=600,\n",
    "            xaxis_title=\"Год\",\n",
    "            yaxis_title=\"Изменение ВВП, %\",\n",
    "            legend_title=\"Страны\"\n",
    "        )\n",
    "        \n",
    "        fig.show()\n",
    "    \n",
    "    except Exception as e:\n",
    "        print(f\"Ошибка: {str(e)}\")\n",
    "\n",
    "if __name__ == \"__main__\":\n",
    "    main()"
   ]
  }
 ],
 "metadata": {
  "kernelspec": {
   "display_name": ".venv",
   "language": "python",
   "name": "python3"
  },
  "language_info": {
   "codemirror_mode": {
    "name": "ipython",
    "version": 3
   },
   "file_extension": ".py",
   "mimetype": "text/x-python",
   "name": "python",
   "nbconvert_exporter": "python",
   "pygments_lexer": "ipython3",
   "version": "3.13.2"
  }
 },
 "nbformat": 4,
 "nbformat_minor": 2
}
