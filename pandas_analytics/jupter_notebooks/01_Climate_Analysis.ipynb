{
 "cells": [
  {
   "cell_type": "code",
   "execution_count": 2,
   "metadata": {},
   "outputs": [
    {
     "name": "stdout",
     "output_type": "stream",
     "text": [
      "Requirement already satisfied: pandas in c:\\users\\maksi\\onedrive\\documents\\github\\maestro7it_education\\.venv\\lib\\site-packages (2.2.3)\n",
      "Requirement already satisfied: numpy>=1.26.0 in c:\\users\\maksi\\onedrive\\documents\\github\\maestro7it_education\\.venv\\lib\\site-packages (from pandas) (2.2.4)\n",
      "Requirement already satisfied: python-dateutil>=2.8.2 in c:\\users\\maksi\\onedrive\\documents\\github\\maestro7it_education\\.venv\\lib\\site-packages (from pandas) (2.9.0.post0)\n",
      "Requirement already satisfied: pytz>=2020.1 in c:\\users\\maksi\\onedrive\\documents\\github\\maestro7it_education\\.venv\\lib\\site-packages (from pandas) (2025.2)\n",
      "Requirement already satisfied: tzdata>=2022.7 in c:\\users\\maksi\\onedrive\\documents\\github\\maestro7it_education\\.venv\\lib\\site-packages (from pandas) (2025.2)\n",
      "Requirement already satisfied: six>=1.5 in c:\\users\\maksi\\onedrive\\documents\\github\\maestro7it_education\\.venv\\lib\\site-packages (from python-dateutil>=2.8.2->pandas) (1.17.0)\n"
     ]
    },
    {
     "name": "stderr",
     "output_type": "stream",
     "text": [
      "Could not find platform independent libraries <prefix>\n"
     ]
    },
    {
     "name": "stdout",
     "output_type": "stream",
     "text": [
      "Requirement already satisfied: matplotlib in c:\\users\\maksi\\onedrive\\documents\\github\\maestro7it_education\\.venv\\lib\\site-packages (3.10.1)\n",
      "Requirement already satisfied: contourpy>=1.0.1 in c:\\users\\maksi\\onedrive\\documents\\github\\maestro7it_education\\.venv\\lib\\site-packages (from matplotlib) (1.3.1)\n",
      "Requirement already satisfied: cycler>=0.10 in c:\\users\\maksi\\onedrive\\documents\\github\\maestro7it_education\\.venv\\lib\\site-packages (from matplotlib) (0.12.1)\n",
      "Requirement already satisfied: fonttools>=4.22.0 in c:\\users\\maksi\\onedrive\\documents\\github\\maestro7it_education\\.venv\\lib\\site-packages (from matplotlib) (4.56.0)\n",
      "Requirement already satisfied: kiwisolver>=1.3.1 in c:\\users\\maksi\\onedrive\\documents\\github\\maestro7it_education\\.venv\\lib\\site-packages (from matplotlib) (1.4.8)\n",
      "Requirement already satisfied: numpy>=1.23 in c:\\users\\maksi\\onedrive\\documents\\github\\maestro7it_education\\.venv\\lib\\site-packages (from matplotlib) (2.2.4)\n",
      "Requirement already satisfied: packaging>=20.0 in c:\\users\\maksi\\onedrive\\documents\\github\\maestro7it_education\\.venv\\lib\\site-packages (from matplotlib) (24.2)\n",
      "Requirement already satisfied: pillow>=8 in c:\\users\\maksi\\onedrive\\documents\\github\\maestro7it_education\\.venv\\lib\\site-packages (from matplotlib) (11.2.0)\n",
      "Requirement already satisfied: pyparsing>=2.3.1 in c:\\users\\maksi\\onedrive\\documents\\github\\maestro7it_education\\.venv\\lib\\site-packages (from matplotlib) (3.2.3)\n",
      "Requirement already satisfied: python-dateutil>=2.7 in c:\\users\\maksi\\onedrive\\documents\\github\\maestro7it_education\\.venv\\lib\\site-packages (from matplotlib) (2.9.0.post0)\n",
      "Requirement already satisfied: six>=1.5 in c:\\users\\maksi\\onedrive\\documents\\github\\maestro7it_education\\.venv\\lib\\site-packages (from python-dateutil>=2.7->matplotlib) (1.17.0)\n"
     ]
    },
    {
     "name": "stderr",
     "output_type": "stream",
     "text": [
      "Could not find platform independent libraries <prefix>\n"
     ]
    },
    {
     "name": "stdout",
     "output_type": "stream",
     "text": [
      "Requirement already satisfied: seaborn in c:\\users\\maksi\\onedrive\\documents\\github\\maestro7it_education\\.venv\\lib\\site-packages (0.13.2)\n",
      "Requirement already satisfied: numpy!=1.24.0,>=1.20 in c:\\users\\maksi\\onedrive\\documents\\github\\maestro7it_education\\.venv\\lib\\site-packages (from seaborn) (2.2.4)\n",
      "Requirement already satisfied: pandas>=1.2 in c:\\users\\maksi\\onedrive\\documents\\github\\maestro7it_education\\.venv\\lib\\site-packages (from seaborn) (2.2.3)\n",
      "Requirement already satisfied: matplotlib!=3.6.1,>=3.4 in c:\\users\\maksi\\onedrive\\documents\\github\\maestro7it_education\\.venv\\lib\\site-packages (from seaborn) (3.10.1)\n",
      "Requirement already satisfied: contourpy>=1.0.1 in c:\\users\\maksi\\onedrive\\documents\\github\\maestro7it_education\\.venv\\lib\\site-packages (from matplotlib!=3.6.1,>=3.4->seaborn) (1.3.1)\n",
      "Requirement already satisfied: cycler>=0.10 in c:\\users\\maksi\\onedrive\\documents\\github\\maestro7it_education\\.venv\\lib\\site-packages (from matplotlib!=3.6.1,>=3.4->seaborn) (0.12.1)\n",
      "Requirement already satisfied: fonttools>=4.22.0 in c:\\users\\maksi\\onedrive\\documents\\github\\maestro7it_education\\.venv\\lib\\site-packages (from matplotlib!=3.6.1,>=3.4->seaborn) (4.56.0)\n",
      "Requirement already satisfied: kiwisolver>=1.3.1 in c:\\users\\maksi\\onedrive\\documents\\github\\maestro7it_education\\.venv\\lib\\site-packages (from matplotlib!=3.6.1,>=3.4->seaborn) (1.4.8)\n",
      "Requirement already satisfied: packaging>=20.0 in c:\\users\\maksi\\onedrive\\documents\\github\\maestro7it_education\\.venv\\lib\\site-packages (from matplotlib!=3.6.1,>=3.4->seaborn) (24.2)\n",
      "Requirement already satisfied: pillow>=8 in c:\\users\\maksi\\onedrive\\documents\\github\\maestro7it_education\\.venv\\lib\\site-packages (from matplotlib!=3.6.1,>=3.4->seaborn) (11.2.0)\n",
      "Requirement already satisfied: pyparsing>=2.3.1 in c:\\users\\maksi\\onedrive\\documents\\github\\maestro7it_education\\.venv\\lib\\site-packages (from matplotlib!=3.6.1,>=3.4->seaborn) (3.2.3)\n",
      "Requirement already satisfied: python-dateutil>=2.7 in c:\\users\\maksi\\onedrive\\documents\\github\\maestro7it_education\\.venv\\lib\\site-packages (from matplotlib!=3.6.1,>=3.4->seaborn) (2.9.0.post0)\n",
      "Requirement already satisfied: pytz>=2020.1 in c:\\users\\maksi\\onedrive\\documents\\github\\maestro7it_education\\.venv\\lib\\site-packages (from pandas>=1.2->seaborn) (2025.2)\n",
      "Requirement already satisfied: tzdata>=2022.7 in c:\\users\\maksi\\onedrive\\documents\\github\\maestro7it_education\\.venv\\lib\\site-packages (from pandas>=1.2->seaborn) (2025.2)\n",
      "Requirement already satisfied: six>=1.5 in c:\\users\\maksi\\onedrive\\documents\\github\\maestro7it_education\\.venv\\lib\\site-packages (from python-dateutil>=2.7->matplotlib!=3.6.1,>=3.4->seaborn) (1.17.0)\n"
     ]
    },
    {
     "name": "stderr",
     "output_type": "stream",
     "text": [
      "Could not find platform independent libraries <prefix>\n"
     ]
    },
    {
     "name": "stdout",
     "output_type": "stream",
     "text": [
      "Requirement already satisfied: numpy in c:\\users\\maksi\\onedrive\\documents\\github\\maestro7it_education\\.venv\\lib\\site-packages (2.2.4)\n"
     ]
    },
    {
     "name": "stderr",
     "output_type": "stream",
     "text": [
      "Could not find platform independent libraries <prefix>\n"
     ]
    },
    {
     "name": "stdout",
     "output_type": "stream",
     "text": [
      "Requirement already satisfied: pillow in c:\\users\\maksi\\onedrive\\documents\\github\\maestro7it_education\\.venv\\lib\\site-packages (11.2.0)\n"
     ]
    },
    {
     "name": "stderr",
     "output_type": "stream",
     "text": [
      "Could not find platform independent libraries <prefix>\n"
     ]
    },
    {
     "name": "stdout",
     "output_type": "stream",
     "text": [
      "Requirement already satisfied: customtkinter in c:\\users\\maksi\\onedrive\\documents\\github\\maestro7it_education\\.venv\\lib\\site-packages (5.2.2)\n",
      "Requirement already satisfied: darkdetect in c:\\users\\maksi\\onedrive\\documents\\github\\maestro7it_education\\.venv\\lib\\site-packages (from customtkinter) (0.8.0)\n",
      "Requirement already satisfied: packaging in c:\\users\\maksi\\onedrive\\documents\\github\\maestro7it_education\\.venv\\lib\\site-packages (from customtkinter) (24.2)\n"
     ]
    },
    {
     "name": "stderr",
     "output_type": "stream",
     "text": [
      "Could not find platform independent libraries <prefix>\n"
     ]
    },
    {
     "name": "stdout",
     "output_type": "stream",
     "text": [
      "Requirement already satisfied: panda3d in c:\\users\\maksi\\onedrive\\documents\\github\\maestro7it_education\\.venv\\lib\\site-packages (1.10.15)\n"
     ]
    },
    {
     "name": "stderr",
     "output_type": "stream",
     "text": [
      "Could not find platform independent libraries <prefix>\n"
     ]
    },
    {
     "name": "stdout",
     "output_type": "stream",
     "text": [
      "Requirement already satisfied: requests in c:\\users\\maksi\\onedrive\\documents\\github\\maestro7it_education\\.venv\\lib\\site-packages (2.32.3)\n",
      "Requirement already satisfied: charset-normalizer<4,>=2 in c:\\users\\maksi\\onedrive\\documents\\github\\maestro7it_education\\.venv\\lib\\site-packages (from requests) (3.4.1)\n",
      "Requirement already satisfied: idna<4,>=2.5 in c:\\users\\maksi\\onedrive\\documents\\github\\maestro7it_education\\.venv\\lib\\site-packages (from requests) (3.10)\n",
      "Requirement already satisfied: urllib3<3,>=1.21.1 in c:\\users\\maksi\\onedrive\\documents\\github\\maestro7it_education\\.venv\\lib\\site-packages (from requests) (2.3.0)\n",
      "Requirement already satisfied: certifi>=2017.4.17 in c:\\users\\maksi\\onedrive\\documents\\github\\maestro7it_education\\.venv\\lib\\site-packages (from requests) (2025.1.31)\n"
     ]
    },
    {
     "name": "stderr",
     "output_type": "stream",
     "text": [
      "Could not find platform independent libraries <prefix>\n"
     ]
    },
    {
     "name": "stdout",
     "output_type": "stream",
     "text": [
      "Requirement already satisfied: plotly in c:\\users\\maksi\\onedrive\\documents\\github\\maestro7it_education\\.venv\\lib\\site-packages (6.0.1)\n",
      "Requirement already satisfied: narwhals>=1.15.1 in c:\\users\\maksi\\onedrive\\documents\\github\\maestro7it_education\\.venv\\lib\\site-packages (from plotly) (1.33.0)\n",
      "Requirement already satisfied: packaging in c:\\users\\maksi\\onedrive\\documents\\github\\maestro7it_education\\.venv\\lib\\site-packages (from plotly) (24.2)\n"
     ]
    },
    {
     "name": "stderr",
     "output_type": "stream",
     "text": [
      "Could not find platform independent libraries <prefix>\n"
     ]
    },
    {
     "name": "stdout",
     "output_type": "stream",
     "text": [
      "Requirement already satisfied: ipywidgets in c:\\users\\maksi\\onedrive\\documents\\github\\maestro7it_education\\.venv\\lib\\site-packages (8.1.5)\n",
      "Requirement already satisfied: comm>=0.1.3 in c:\\users\\maksi\\onedrive\\documents\\github\\maestro7it_education\\.venv\\lib\\site-packages (from ipywidgets) (0.2.2)\n",
      "Requirement already satisfied: ipython>=6.1.0 in c:\\users\\maksi\\onedrive\\documents\\github\\maestro7it_education\\.venv\\lib\\site-packages (from ipywidgets) (9.0.2)\n",
      "Requirement already satisfied: traitlets>=4.3.1 in c:\\users\\maksi\\onedrive\\documents\\github\\maestro7it_education\\.venv\\lib\\site-packages (from ipywidgets) (5.14.3)\n",
      "Requirement already satisfied: widgetsnbextension~=4.0.12 in c:\\users\\maksi\\onedrive\\documents\\github\\maestro7it_education\\.venv\\lib\\site-packages (from ipywidgets) (4.0.13)\n",
      "Requirement already satisfied: jupyterlab-widgets~=3.0.12 in c:\\users\\maksi\\onedrive\\documents\\github\\maestro7it_education\\.venv\\lib\\site-packages (from ipywidgets) (3.0.13)\n",
      "Requirement already satisfied: colorama in c:\\users\\maksi\\onedrive\\documents\\github\\maestro7it_education\\.venv\\lib\\site-packages (from ipython>=6.1.0->ipywidgets) (0.4.6)\n",
      "Requirement already satisfied: decorator in c:\\users\\maksi\\onedrive\\documents\\github\\maestro7it_education\\.venv\\lib\\site-packages (from ipython>=6.1.0->ipywidgets) (5.2.1)\n",
      "Requirement already satisfied: ipython-pygments-lexers in c:\\users\\maksi\\onedrive\\documents\\github\\maestro7it_education\\.venv\\lib\\site-packages (from ipython>=6.1.0->ipywidgets) (1.1.1)\n",
      "Requirement already satisfied: jedi>=0.16 in c:\\users\\maksi\\onedrive\\documents\\github\\maestro7it_education\\.venv\\lib\\site-packages (from ipython>=6.1.0->ipywidgets) (0.19.2)\n",
      "Requirement already satisfied: matplotlib-inline in c:\\users\\maksi\\onedrive\\documents\\github\\maestro7it_education\\.venv\\lib\\site-packages (from ipython>=6.1.0->ipywidgets) (0.1.7)\n",
      "Requirement already satisfied: prompt_toolkit<3.1.0,>=3.0.41 in c:\\users\\maksi\\onedrive\\documents\\github\\maestro7it_education\\.venv\\lib\\site-packages (from ipython>=6.1.0->ipywidgets) (3.0.50)\n",
      "Requirement already satisfied: pygments>=2.4.0 in c:\\users\\maksi\\onedrive\\documents\\github\\maestro7it_education\\.venv\\lib\\site-packages (from ipython>=6.1.0->ipywidgets) (2.19.1)\n",
      "Requirement already satisfied: stack_data in c:\\users\\maksi\\onedrive\\documents\\github\\maestro7it_education\\.venv\\lib\\site-packages (from ipython>=6.1.0->ipywidgets) (0.6.3)\n",
      "Requirement already satisfied: parso<0.9.0,>=0.8.4 in c:\\users\\maksi\\onedrive\\documents\\github\\maestro7it_education\\.venv\\lib\\site-packages (from jedi>=0.16->ipython>=6.1.0->ipywidgets) (0.8.4)\n",
      "Requirement already satisfied: wcwidth in c:\\users\\maksi\\onedrive\\documents\\github\\maestro7it_education\\.venv\\lib\\site-packages (from prompt_toolkit<3.1.0,>=3.0.41->ipython>=6.1.0->ipywidgets) (0.2.13)\n",
      "Requirement already satisfied: executing>=1.2.0 in c:\\users\\maksi\\onedrive\\documents\\github\\maestro7it_education\\.venv\\lib\\site-packages (from stack_data->ipython>=6.1.0->ipywidgets) (2.2.0)\n",
      "Requirement already satisfied: asttokens>=2.1.0 in c:\\users\\maksi\\onedrive\\documents\\github\\maestro7it_education\\.venv\\lib\\site-packages (from stack_data->ipython>=6.1.0->ipywidgets) (3.0.0)\n",
      "Requirement already satisfied: pure-eval in c:\\users\\maksi\\onedrive\\documents\\github\\maestro7it_education\\.venv\\lib\\site-packages (from stack_data->ipython>=6.1.0->ipywidgets) (0.2.3)\n"
     ]
    },
    {
     "name": "stderr",
     "output_type": "stream",
     "text": [
      "Could not find platform independent libraries <prefix>\n"
     ]
    },
    {
     "name": "stdout",
     "output_type": "stream",
     "text": [
      "Requirement already satisfied: pytest in c:\\users\\maksi\\onedrive\\documents\\github\\maestro7it_education\\.venv\\lib\\site-packages (8.3.5)\n",
      "Requirement already satisfied: colorama in c:\\users\\maksi\\onedrive\\documents\\github\\maestro7it_education\\.venv\\lib\\site-packages (from pytest) (0.4.6)\n",
      "Requirement already satisfied: iniconfig in c:\\users\\maksi\\onedrive\\documents\\github\\maestro7it_education\\.venv\\lib\\site-packages (from pytest) (2.1.0)\n",
      "Requirement already satisfied: packaging in c:\\users\\maksi\\onedrive\\documents\\github\\maestro7it_education\\.venv\\lib\\site-packages (from pytest) (24.2)\n",
      "Requirement already satisfied: pluggy<2,>=1.5 in c:\\users\\maksi\\onedrive\\documents\\github\\maestro7it_education\\.venv\\lib\\site-packages (from pytest) (1.5.0)\n"
     ]
    },
    {
     "name": "stderr",
     "output_type": "stream",
     "text": [
      "Could not find platform independent libraries <prefix>\n"
     ]
    },
    {
     "name": "stdout",
     "output_type": "stream",
     "text": [
      "Requirement already satisfied: utils in c:\\users\\maksi\\onedrive\\documents\\github\\maestro7it_education\\.venv\\lib\\site-packages (1.0.2)\n"
     ]
    },
    {
     "name": "stderr",
     "output_type": "stream",
     "text": [
      "Could not find platform independent libraries <prefix>\n"
     ]
    },
    {
     "name": "stdout",
     "output_type": "stream",
     "text": [
      "Requirement already satisfied: jupyter in c:\\users\\maksi\\onedrive\\documents\\github\\maestro7it_education\\.venv\\lib\\site-packages (1.1.1)\n",
      "Requirement already satisfied: notebook in c:\\users\\maksi\\onedrive\\documents\\github\\maestro7it_education\\.venv\\lib\\site-packages (from jupyter) (7.3.3)\n",
      "Requirement already satisfied: jupyter-console in c:\\users\\maksi\\onedrive\\documents\\github\\maestro7it_education\\.venv\\lib\\site-packages (from jupyter) (6.6.3)\n",
      "Requirement already satisfied: nbconvert in c:\\users\\maksi\\onedrive\\documents\\github\\maestro7it_education\\.venv\\lib\\site-packages (from jupyter) (7.16.6)\n",
      "Requirement already satisfied: ipykernel in c:\\users\\maksi\\onedrive\\documents\\github\\maestro7it_education\\.venv\\lib\\site-packages (from jupyter) (6.29.5)\n",
      "Requirement already satisfied: ipywidgets in c:\\users\\maksi\\onedrive\\documents\\github\\maestro7it_education\\.venv\\lib\\site-packages (from jupyter) (8.1.5)\n",
      "Requirement already satisfied: jupyterlab in c:\\users\\maksi\\onedrive\\documents\\github\\maestro7it_education\\.venv\\lib\\site-packages (from jupyter) (4.3.6)\n",
      "Requirement already satisfied: comm>=0.1.1 in c:\\users\\maksi\\onedrive\\documents\\github\\maestro7it_education\\.venv\\lib\\site-packages (from ipykernel->jupyter) (0.2.2)\n",
      "Requirement already satisfied: debugpy>=1.6.5 in c:\\users\\maksi\\onedrive\\documents\\github\\maestro7it_education\\.venv\\lib\\site-packages (from ipykernel->jupyter) (1.8.13)\n",
      "Requirement already satisfied: ipython>=7.23.1 in c:\\users\\maksi\\onedrive\\documents\\github\\maestro7it_education\\.venv\\lib\\site-packages (from ipykernel->jupyter) (9.0.2)\n",
      "Requirement already satisfied: jupyter-client>=6.1.12 in c:\\users\\maksi\\onedrive\\documents\\github\\maestro7it_education\\.venv\\lib\\site-packages (from ipykernel->jupyter) (8.6.3)\n",
      "Requirement already satisfied: jupyter-core!=5.0.*,>=4.12 in c:\\users\\maksi\\onedrive\\documents\\github\\maestro7it_education\\.venv\\lib\\site-packages (from ipykernel->jupyter) (5.7.2)\n",
      "Requirement already satisfied: matplotlib-inline>=0.1 in c:\\users\\maksi\\onedrive\\documents\\github\\maestro7it_education\\.venv\\lib\\site-packages (from ipykernel->jupyter) (0.1.7)\n",
      "Requirement already satisfied: nest-asyncio in c:\\users\\maksi\\onedrive\\documents\\github\\maestro7it_education\\.venv\\lib\\site-packages (from ipykernel->jupyter) (1.6.0)\n",
      "Requirement already satisfied: packaging in c:\\users\\maksi\\onedrive\\documents\\github\\maestro7it_education\\.venv\\lib\\site-packages (from ipykernel->jupyter) (24.2)\n",
      "Requirement already satisfied: psutil in c:\\users\\maksi\\onedrive\\documents\\github\\maestro7it_education\\.venv\\lib\\site-packages (from ipykernel->jupyter) (7.0.0)\n",
      "Requirement already satisfied: pyzmq>=24 in c:\\users\\maksi\\onedrive\\documents\\github\\maestro7it_education\\.venv\\lib\\site-packages (from ipykernel->jupyter) (26.3.0)\n",
      "Requirement already satisfied: tornado>=6.1 in c:\\users\\maksi\\onedrive\\documents\\github\\maestro7it_education\\.venv\\lib\\site-packages (from ipykernel->jupyter) (6.4.2)\n",
      "Requirement already satisfied: traitlets>=5.4.0 in c:\\users\\maksi\\onedrive\\documents\\github\\maestro7it_education\\.venv\\lib\\site-packages (from ipykernel->jupyter) (5.14.3)\n",
      "Requirement already satisfied: widgetsnbextension~=4.0.12 in c:\\users\\maksi\\onedrive\\documents\\github\\maestro7it_education\\.venv\\lib\\site-packages (from ipywidgets->jupyter) (4.0.13)\n",
      "Requirement already satisfied: jupyterlab-widgets~=3.0.12 in c:\\users\\maksi\\onedrive\\documents\\github\\maestro7it_education\\.venv\\lib\\site-packages (from ipywidgets->jupyter) (3.0.13)\n",
      "Requirement already satisfied: prompt-toolkit>=3.0.30 in c:\\users\\maksi\\onedrive\\documents\\github\\maestro7it_education\\.venv\\lib\\site-packages (from jupyter-console->jupyter) (3.0.50)\n",
      "Requirement already satisfied: pygments in c:\\users\\maksi\\onedrive\\documents\\github\\maestro7it_education\\.venv\\lib\\site-packages (from jupyter-console->jupyter) (2.19.1)\n",
      "Requirement already satisfied: async-lru>=1.0.0 in c:\\users\\maksi\\onedrive\\documents\\github\\maestro7it_education\\.venv\\lib\\site-packages (from jupyterlab->jupyter) (2.0.5)\n",
      "Requirement already satisfied: httpx>=0.25.0 in c:\\users\\maksi\\onedrive\\documents\\github\\maestro7it_education\\.venv\\lib\\site-packages (from jupyterlab->jupyter) (0.28.1)\n",
      "Requirement already satisfied: jinja2>=3.0.3 in c:\\users\\maksi\\onedrive\\documents\\github\\maestro7it_education\\.venv\\lib\\site-packages (from jupyterlab->jupyter) (3.1.6)\n",
      "Requirement already satisfied: jupyter-lsp>=2.0.0 in c:\\users\\maksi\\onedrive\\documents\\github\\maestro7it_education\\.venv\\lib\\site-packages (from jupyterlab->jupyter) (2.2.5)\n",
      "Requirement already satisfied: jupyter-server<3,>=2.4.0 in c:\\users\\maksi\\onedrive\\documents\\github\\maestro7it_education\\.venv\\lib\\site-packages (from jupyterlab->jupyter) (2.15.0)\n",
      "Requirement already satisfied: jupyterlab-server<3,>=2.27.1 in c:\\users\\maksi\\onedrive\\documents\\github\\maestro7it_education\\.venv\\lib\\site-packages (from jupyterlab->jupyter) (2.27.3)\n",
      "Requirement already satisfied: notebook-shim>=0.2 in c:\\users\\maksi\\onedrive\\documents\\github\\maestro7it_education\\.venv\\lib\\site-packages (from jupyterlab->jupyter) (0.2.4)\n",
      "Requirement already satisfied: setuptools>=40.8.0 in c:\\users\\maksi\\onedrive\\documents\\github\\maestro7it_education\\.venv\\lib\\site-packages (from jupyterlab->jupyter) (78.1.0)\n",
      "Requirement already satisfied: beautifulsoup4 in c:\\users\\maksi\\onedrive\\documents\\github\\maestro7it_education\\.venv\\lib\\site-packages (from nbconvert->jupyter) (4.13.3)\n",
      "Requirement already satisfied: bleach!=5.0.0 in c:\\users\\maksi\\onedrive\\documents\\github\\maestro7it_education\\.venv\\lib\\site-packages (from bleach[css]!=5.0.0->nbconvert->jupyter) (6.2.0)\n",
      "Requirement already satisfied: defusedxml in c:\\users\\maksi\\onedrive\\documents\\github\\maestro7it_education\\.venv\\lib\\site-packages (from nbconvert->jupyter) (0.7.1)\n",
      "Requirement already satisfied: jupyterlab-pygments in c:\\users\\maksi\\onedrive\\documents\\github\\maestro7it_education\\.venv\\lib\\site-packages (from nbconvert->jupyter) (0.3.0)\n",
      "Requirement already satisfied: markupsafe>=2.0 in c:\\users\\maksi\\onedrive\\documents\\github\\maestro7it_education\\.venv\\lib\\site-packages (from nbconvert->jupyter) (3.0.2)\n",
      "Requirement already satisfied: mistune<4,>=2.0.3 in c:\\users\\maksi\\onedrive\\documents\\github\\maestro7it_education\\.venv\\lib\\site-packages (from nbconvert->jupyter) (3.1.3)\n",
      "Requirement already satisfied: nbclient>=0.5.0 in c:\\users\\maksi\\onedrive\\documents\\github\\maestro7it_education\\.venv\\lib\\site-packages (from nbconvert->jupyter) (0.10.2)\n",
      "Requirement already satisfied: nbformat>=5.7 in c:\\users\\maksi\\onedrive\\documents\\github\\maestro7it_education\\.venv\\lib\\site-packages (from nbconvert->jupyter) (5.10.4)\n",
      "Requirement already satisfied: pandocfilters>=1.4.1 in c:\\users\\maksi\\onedrive\\documents\\github\\maestro7it_education\\.venv\\lib\\site-packages (from nbconvert->jupyter) (1.5.1)\n",
      "Requirement already satisfied: webencodings in c:\\users\\maksi\\onedrive\\documents\\github\\maestro7it_education\\.venv\\lib\\site-packages (from bleach!=5.0.0->bleach[css]!=5.0.0->nbconvert->jupyter) (0.5.1)\n",
      "Requirement already satisfied: tinycss2<1.5,>=1.1.0 in c:\\users\\maksi\\onedrive\\documents\\github\\maestro7it_education\\.venv\\lib\\site-packages (from bleach[css]!=5.0.0->nbconvert->jupyter) (1.4.0)\n",
      "Requirement already satisfied: anyio in c:\\users\\maksi\\onedrive\\documents\\github\\maestro7it_education\\.venv\\lib\\site-packages (from httpx>=0.25.0->jupyterlab->jupyter) (4.9.0)\n",
      "Requirement already satisfied: certifi in c:\\users\\maksi\\onedrive\\documents\\github\\maestro7it_education\\.venv\\lib\\site-packages (from httpx>=0.25.0->jupyterlab->jupyter) (2025.1.31)\n",
      "Requirement already satisfied: httpcore==1.* in c:\\users\\maksi\\onedrive\\documents\\github\\maestro7it_education\\.venv\\lib\\site-packages (from httpx>=0.25.0->jupyterlab->jupyter) (1.0.7)\n",
      "Requirement already satisfied: idna in c:\\users\\maksi\\onedrive\\documents\\github\\maestro7it_education\\.venv\\lib\\site-packages (from httpx>=0.25.0->jupyterlab->jupyter) (3.10)\n",
      "Requirement already satisfied: h11<0.15,>=0.13 in c:\\users\\maksi\\onedrive\\documents\\github\\maestro7it_education\\.venv\\lib\\site-packages (from httpcore==1.*->httpx>=0.25.0->jupyterlab->jupyter) (0.14.0)\n",
      "Requirement already satisfied: colorama in c:\\users\\maksi\\onedrive\\documents\\github\\maestro7it_education\\.venv\\lib\\site-packages (from ipython>=7.23.1->ipykernel->jupyter) (0.4.6)\n",
      "Requirement already satisfied: decorator in c:\\users\\maksi\\onedrive\\documents\\github\\maestro7it_education\\.venv\\lib\\site-packages (from ipython>=7.23.1->ipykernel->jupyter) (5.2.1)\n",
      "Requirement already satisfied: ipython-pygments-lexers in c:\\users\\maksi\\onedrive\\documents\\github\\maestro7it_education\\.venv\\lib\\site-packages (from ipython>=7.23.1->ipykernel->jupyter) (1.1.1)\n",
      "Requirement already satisfied: jedi>=0.16 in c:\\users\\maksi\\onedrive\\documents\\github\\maestro7it_education\\.venv\\lib\\site-packages (from ipython>=7.23.1->ipykernel->jupyter) (0.19.2)\n",
      "Requirement already satisfied: stack_data in c:\\users\\maksi\\onedrive\\documents\\github\\maestro7it_education\\.venv\\lib\\site-packages (from ipython>=7.23.1->ipykernel->jupyter) (0.6.3)\n",
      "Requirement already satisfied: python-dateutil>=2.8.2 in c:\\users\\maksi\\onedrive\\documents\\github\\maestro7it_education\\.venv\\lib\\site-packages (from jupyter-client>=6.1.12->ipykernel->jupyter) (2.9.0.post0)\n",
      "Requirement already satisfied: platformdirs>=2.5 in c:\\users\\maksi\\onedrive\\documents\\github\\maestro7it_education\\.venv\\lib\\site-packages (from jupyter-core!=5.0.*,>=4.12->ipykernel->jupyter) (4.3.7)\n",
      "Requirement already satisfied: pywin32>=300 in c:\\users\\maksi\\onedrive\\documents\\github\\maestro7it_education\\.venv\\lib\\site-packages (from jupyter-core!=5.0.*,>=4.12->ipykernel->jupyter) (310)\n",
      "Requirement already satisfied: argon2-cffi>=21.1 in c:\\users\\maksi\\onedrive\\documents\\github\\maestro7it_education\\.venv\\lib\\site-packages (from jupyter-server<3,>=2.4.0->jupyterlab->jupyter) (23.1.0)\n",
      "Requirement already satisfied: jupyter-events>=0.11.0 in c:\\users\\maksi\\onedrive\\documents\\github\\maestro7it_education\\.venv\\lib\\site-packages (from jupyter-server<3,>=2.4.0->jupyterlab->jupyter) (0.12.0)\n",
      "Requirement already satisfied: jupyter-server-terminals>=0.4.4 in c:\\users\\maksi\\onedrive\\documents\\github\\maestro7it_education\\.venv\\lib\\site-packages (from jupyter-server<3,>=2.4.0->jupyterlab->jupyter) (0.5.3)\n",
      "Requirement already satisfied: overrides>=5.0 in c:\\users\\maksi\\onedrive\\documents\\github\\maestro7it_education\\.venv\\lib\\site-packages (from jupyter-server<3,>=2.4.0->jupyterlab->jupyter) (7.7.0)\n",
      "Requirement already satisfied: prometheus-client>=0.9 in c:\\users\\maksi\\onedrive\\documents\\github\\maestro7it_education\\.venv\\lib\\site-packages (from jupyter-server<3,>=2.4.0->jupyterlab->jupyter) (0.21.1)\n",
      "Requirement already satisfied: pywinpty>=2.0.1 in c:\\users\\maksi\\onedrive\\documents\\github\\maestro7it_education\\.venv\\lib\\site-packages (from jupyter-server<3,>=2.4.0->jupyterlab->jupyter) (2.0.15)\n",
      "Requirement already satisfied: send2trash>=1.8.2 in c:\\users\\maksi\\onedrive\\documents\\github\\maestro7it_education\\.venv\\lib\\site-packages (from jupyter-server<3,>=2.4.0->jupyterlab->jupyter) (1.8.3)\n",
      "Requirement already satisfied: terminado>=0.8.3 in c:\\users\\maksi\\onedrive\\documents\\github\\maestro7it_education\\.venv\\lib\\site-packages (from jupyter-server<3,>=2.4.0->jupyterlab->jupyter) (0.18.1)\n",
      "Requirement already satisfied: websocket-client>=1.7 in c:\\users\\maksi\\onedrive\\documents\\github\\maestro7it_education\\.venv\\lib\\site-packages (from jupyter-server<3,>=2.4.0->jupyterlab->jupyter) (1.8.0)\n",
      "Requirement already satisfied: babel>=2.10 in c:\\users\\maksi\\onedrive\\documents\\github\\maestro7it_education\\.venv\\lib\\site-packages (from jupyterlab-server<3,>=2.27.1->jupyterlab->jupyter) (2.17.0)\n",
      "Requirement already satisfied: json5>=0.9.0 in c:\\users\\maksi\\onedrive\\documents\\github\\maestro7it_education\\.venv\\lib\\site-packages (from jupyterlab-server<3,>=2.27.1->jupyterlab->jupyter) (0.10.0)\n",
      "Requirement already satisfied: jsonschema>=4.18.0 in c:\\users\\maksi\\onedrive\\documents\\github\\maestro7it_education\\.venv\\lib\\site-packages (from jupyterlab-server<3,>=2.27.1->jupyterlab->jupyter) (4.23.0)\n",
      "Requirement already satisfied: requests>=2.31 in c:\\users\\maksi\\onedrive\\documents\\github\\maestro7it_education\\.venv\\lib\\site-packages (from jupyterlab-server<3,>=2.27.1->jupyterlab->jupyter) (2.32.3)\n",
      "Requirement already satisfied: fastjsonschema>=2.15 in c:\\users\\maksi\\onedrive\\documents\\github\\maestro7it_education\\.venv\\lib\\site-packages (from nbformat>=5.7->nbconvert->jupyter) (2.21.1)\n",
      "Requirement already satisfied: wcwidth in c:\\users\\maksi\\onedrive\\documents\\github\\maestro7it_education\\.venv\\lib\\site-packages (from prompt-toolkit>=3.0.30->jupyter-console->jupyter) (0.2.13)\n",
      "Requirement already satisfied: soupsieve>1.2 in c:\\users\\maksi\\onedrive\\documents\\github\\maestro7it_education\\.venv\\lib\\site-packages (from beautifulsoup4->nbconvert->jupyter) (2.6)\n",
      "Requirement already satisfied: typing-extensions>=4.0.0 in c:\\users\\maksi\\onedrive\\documents\\github\\maestro7it_education\\.venv\\lib\\site-packages (from beautifulsoup4->nbconvert->jupyter) (4.13.0)\n",
      "Requirement already satisfied: sniffio>=1.1 in c:\\users\\maksi\\onedrive\\documents\\github\\maestro7it_education\\.venv\\lib\\site-packages (from anyio->httpx>=0.25.0->jupyterlab->jupyter) (1.3.1)\n",
      "Requirement already satisfied: argon2-cffi-bindings in c:\\users\\maksi\\onedrive\\documents\\github\\maestro7it_education\\.venv\\lib\\site-packages (from argon2-cffi>=21.1->jupyter-server<3,>=2.4.0->jupyterlab->jupyter) (21.2.0)\n",
      "Requirement already satisfied: parso<0.9.0,>=0.8.4 in c:\\users\\maksi\\onedrive\\documents\\github\\maestro7it_education\\.venv\\lib\\site-packages (from jedi>=0.16->ipython>=7.23.1->ipykernel->jupyter) (0.8.4)\n",
      "Requirement already satisfied: attrs>=22.2.0 in c:\\users\\maksi\\onedrive\\documents\\github\\maestro7it_education\\.venv\\lib\\site-packages (from jsonschema>=4.18.0->jupyterlab-server<3,>=2.27.1->jupyterlab->jupyter) (25.3.0)\n",
      "Requirement already satisfied: jsonschema-specifications>=2023.03.6 in c:\\users\\maksi\\onedrive\\documents\\github\\maestro7it_education\\.venv\\lib\\site-packages (from jsonschema>=4.18.0->jupyterlab-server<3,>=2.27.1->jupyterlab->jupyter) (2024.10.1)\n",
      "Requirement already satisfied: referencing>=0.28.4 in c:\\users\\maksi\\onedrive\\documents\\github\\maestro7it_education\\.venv\\lib\\site-packages (from jsonschema>=4.18.0->jupyterlab-server<3,>=2.27.1->jupyterlab->jupyter) (0.36.2)\n",
      "Requirement already satisfied: rpds-py>=0.7.1 in c:\\users\\maksi\\onedrive\\documents\\github\\maestro7it_education\\.venv\\lib\\site-packages (from jsonschema>=4.18.0->jupyterlab-server<3,>=2.27.1->jupyterlab->jupyter) (0.24.0)\n",
      "Requirement already satisfied: python-json-logger>=2.0.4 in c:\\users\\maksi\\onedrive\\documents\\github\\maestro7it_education\\.venv\\lib\\site-packages (from jupyter-events>=0.11.0->jupyter-server<3,>=2.4.0->jupyterlab->jupyter) (3.3.0)\n",
      "Requirement already satisfied: pyyaml>=5.3 in c:\\users\\maksi\\onedrive\\documents\\github\\maestro7it_education\\.venv\\lib\\site-packages (from jupyter-events>=0.11.0->jupyter-server<3,>=2.4.0->jupyterlab->jupyter) (6.0.2)\n",
      "Requirement already satisfied: rfc3339-validator in c:\\users\\maksi\\onedrive\\documents\\github\\maestro7it_education\\.venv\\lib\\site-packages (from jupyter-events>=0.11.0->jupyter-server<3,>=2.4.0->jupyterlab->jupyter) (0.1.4)\n",
      "Requirement already satisfied: rfc3986-validator>=0.1.1 in c:\\users\\maksi\\onedrive\\documents\\github\\maestro7it_education\\.venv\\lib\\site-packages (from jupyter-events>=0.11.0->jupyter-server<3,>=2.4.0->jupyterlab->jupyter) (0.1.1)\n",
      "Requirement already satisfied: six>=1.5 in c:\\users\\maksi\\onedrive\\documents\\github\\maestro7it_education\\.venv\\lib\\site-packages (from python-dateutil>=2.8.2->jupyter-client>=6.1.12->ipykernel->jupyter) (1.17.0)\n",
      "Requirement already satisfied: charset-normalizer<4,>=2 in c:\\users\\maksi\\onedrive\\documents\\github\\maestro7it_education\\.venv\\lib\\site-packages (from requests>=2.31->jupyterlab-server<3,>=2.27.1->jupyterlab->jupyter) (3.4.1)\n",
      "Requirement already satisfied: urllib3<3,>=1.21.1 in c:\\users\\maksi\\onedrive\\documents\\github\\maestro7it_education\\.venv\\lib\\site-packages (from requests>=2.31->jupyterlab-server<3,>=2.27.1->jupyterlab->jupyter) (2.3.0)\n",
      "Requirement already satisfied: executing>=1.2.0 in c:\\users\\maksi\\onedrive\\documents\\github\\maestro7it_education\\.venv\\lib\\site-packages (from stack_data->ipython>=7.23.1->ipykernel->jupyter) (2.2.0)\n",
      "Requirement already satisfied: asttokens>=2.1.0 in c:\\users\\maksi\\onedrive\\documents\\github\\maestro7it_education\\.venv\\lib\\site-packages (from stack_data->ipython>=7.23.1->ipykernel->jupyter) (3.0.0)\n",
      "Requirement already satisfied: pure-eval in c:\\users\\maksi\\onedrive\\documents\\github\\maestro7it_education\\.venv\\lib\\site-packages (from stack_data->ipython>=7.23.1->ipykernel->jupyter) (0.2.3)\n",
      "Requirement already satisfied: fqdn in c:\\users\\maksi\\onedrive\\documents\\github\\maestro7it_education\\.venv\\lib\\site-packages (from jsonschema[format-nongpl]>=4.18.0->jupyter-events>=0.11.0->jupyter-server<3,>=2.4.0->jupyterlab->jupyter) (1.5.1)\n",
      "Requirement already satisfied: isoduration in c:\\users\\maksi\\onedrive\\documents\\github\\maestro7it_education\\.venv\\lib\\site-packages (from jsonschema[format-nongpl]>=4.18.0->jupyter-events>=0.11.0->jupyter-server<3,>=2.4.0->jupyterlab->jupyter) (20.11.0)\n",
      "Requirement already satisfied: jsonpointer>1.13 in c:\\users\\maksi\\onedrive\\documents\\github\\maestro7it_education\\.venv\\lib\\site-packages (from jsonschema[format-nongpl]>=4.18.0->jupyter-events>=0.11.0->jupyter-server<3,>=2.4.0->jupyterlab->jupyter) (3.0.0)\n",
      "Requirement already satisfied: uri-template in c:\\users\\maksi\\onedrive\\documents\\github\\maestro7it_education\\.venv\\lib\\site-packages (from jsonschema[format-nongpl]>=4.18.0->jupyter-events>=0.11.0->jupyter-server<3,>=2.4.0->jupyterlab->jupyter) (1.3.0)\n",
      "Requirement already satisfied: webcolors>=24.6.0 in c:\\users\\maksi\\onedrive\\documents\\github\\maestro7it_education\\.venv\\lib\\site-packages (from jsonschema[format-nongpl]>=4.18.0->jupyter-events>=0.11.0->jupyter-server<3,>=2.4.0->jupyterlab->jupyter) (24.11.1)\n",
      "Requirement already satisfied: cffi>=1.0.1 in c:\\users\\maksi\\onedrive\\documents\\github\\maestro7it_education\\.venv\\lib\\site-packages (from argon2-cffi-bindings->argon2-cffi>=21.1->jupyter-server<3,>=2.4.0->jupyterlab->jupyter) (1.17.1)\n",
      "Requirement already satisfied: pycparser in c:\\users\\maksi\\onedrive\\documents\\github\\maestro7it_education\\.venv\\lib\\site-packages (from cffi>=1.0.1->argon2-cffi-bindings->argon2-cffi>=21.1->jupyter-server<3,>=2.4.0->jupyterlab->jupyter) (2.22)\n",
      "Requirement already satisfied: arrow>=0.15.0 in c:\\users\\maksi\\onedrive\\documents\\github\\maestro7it_education\\.venv\\lib\\site-packages (from isoduration->jsonschema[format-nongpl]>=4.18.0->jupyter-events>=0.11.0->jupyter-server<3,>=2.4.0->jupyterlab->jupyter) (1.3.0)\n",
      "Requirement already satisfied: types-python-dateutil>=2.8.10 in c:\\users\\maksi\\onedrive\\documents\\github\\maestro7it_education\\.venv\\lib\\site-packages (from arrow>=0.15.0->isoduration->jsonschema[format-nongpl]>=4.18.0->jupyter-events>=0.11.0->jupyter-server<3,>=2.4.0->jupyterlab->jupyter) (2.9.0.20241206)\n"
     ]
    },
    {
     "name": "stderr",
     "output_type": "stream",
     "text": [
      "Could not find platform independent libraries <prefix>\n"
     ]
    },
    {
     "name": "stdout",
     "output_type": "stream",
     "text": [
      "Requirement already satisfied: geopandas in c:\\users\\maksi\\onedrive\\documents\\github\\maestro7it_education\\.venv\\lib\\site-packages (1.0.1)\n",
      "Requirement already satisfied: numpy>=1.22 in c:\\users\\maksi\\onedrive\\documents\\github\\maestro7it_education\\.venv\\lib\\site-packages (from geopandas) (2.2.4)\n",
      "Requirement already satisfied: pyogrio>=0.7.2 in c:\\users\\maksi\\onedrive\\documents\\github\\maestro7it_education\\.venv\\lib\\site-packages (from geopandas) (0.10.0)\n",
      "Requirement already satisfied: packaging in c:\\users\\maksi\\onedrive\\documents\\github\\maestro7it_education\\.venv\\lib\\site-packages (from geopandas) (24.2)\n",
      "Requirement already satisfied: pandas>=1.4.0 in c:\\users\\maksi\\onedrive\\documents\\github\\maestro7it_education\\.venv\\lib\\site-packages (from geopandas) (2.2.3)\n",
      "Requirement already satisfied: pyproj>=3.3.0 in c:\\users\\maksi\\onedrive\\documents\\github\\maestro7it_education\\.venv\\lib\\site-packages (from geopandas) (3.7.1)\n",
      "Requirement already satisfied: shapely>=2.0.0 in c:\\users\\maksi\\onedrive\\documents\\github\\maestro7it_education\\.venv\\lib\\site-packages (from geopandas) (2.0.7)\n",
      "Requirement already satisfied: python-dateutil>=2.8.2 in c:\\users\\maksi\\onedrive\\documents\\github\\maestro7it_education\\.venv\\lib\\site-packages (from pandas>=1.4.0->geopandas) (2.9.0.post0)\n",
      "Requirement already satisfied: pytz>=2020.1 in c:\\users\\maksi\\onedrive\\documents\\github\\maestro7it_education\\.venv\\lib\\site-packages (from pandas>=1.4.0->geopandas) (2025.2)\n",
      "Requirement already satisfied: tzdata>=2022.7 in c:\\users\\maksi\\onedrive\\documents\\github\\maestro7it_education\\.venv\\lib\\site-packages (from pandas>=1.4.0->geopandas) (2025.2)\n",
      "Requirement already satisfied: certifi in c:\\users\\maksi\\onedrive\\documents\\github\\maestro7it_education\\.venv\\lib\\site-packages (from pyogrio>=0.7.2->geopandas) (2025.1.31)\n",
      "Requirement already satisfied: six>=1.5 in c:\\users\\maksi\\onedrive\\documents\\github\\maestro7it_education\\.venv\\lib\\site-packages (from python-dateutil>=2.8.2->pandas>=1.4.0->geopandas) (1.17.0)\n"
     ]
    },
    {
     "name": "stderr",
     "output_type": "stream",
     "text": [
      "Could not find platform independent libraries <prefix>\n"
     ]
    },
    {
     "name": "stdout",
     "output_type": "stream",
     "text": [
      "Requirement already satisfied: pycountry in c:\\users\\maksi\\onedrive\\documents\\github\\maestro7it_education\\.venv\\lib\\site-packages (24.6.1)\n"
     ]
    },
    {
     "name": "stderr",
     "output_type": "stream",
     "text": [
      "Could not find platform independent libraries <prefix>\n"
     ]
    },
    {
     "name": "stdout",
     "output_type": "stream",
     "text": [
      "Requirement already satisfied: openpyxl in c:\\users\\maksi\\onedrive\\documents\\github\\maestro7it_education\\.venv\\lib\\site-packages (3.1.5)\n",
      "Requirement already satisfied: et-xmlfile in c:\\users\\maksi\\onedrive\\documents\\github\\maestro7it_education\\.venv\\lib\\site-packages (from openpyxl) (2.0.0)\n"
     ]
    },
    {
     "name": "stderr",
     "output_type": "stream",
     "text": [
      "Could not find platform independent libraries <prefix>\n"
     ]
    }
   ],
   "source": [
    "!pip install pandas\n",
    "!pip install matplotlib\n",
    "!pip install seaborn\n",
    "!pip install numpy\n",
    "!pip install pillow\n",
    "!pip install customtkinter\n",
    "!pip install panda3d\n",
    "!pip install requests\n",
    "!pip install plotly\n",
    "!pip install ipywidgets\n",
    "!pip install pytest\n",
    "!pip install utils\n",
    "!pip install jupyter\n",
    "!pip install geopandas\n",
    "!pip install pycountry\n",
    "!pip install openpyxl"
   ]
  },
  {
   "cell_type": "code",
   "execution_count": 3,
   "metadata": {},
   "outputs": [
    {
     "ename": "ImportError",
     "evalue": "cannot import name 'load_nasa_climate' from 'src.data_loader' (c:\\Users\\maksi\\OneDrive\\Documents\\GitHub\\maestro7it_education\\pandas_analytics\\jupter_notebooks\\src\\data_loader.py)",
     "output_type": "error",
     "traceback": [
      "\u001b[31m---------------------------------------------------------------------------\u001b[39m",
      "\u001b[31mImportError\u001b[39m                               Traceback (most recent call last)",
      "\u001b[36mCell\u001b[39m\u001b[36m \u001b[39m\u001b[32mIn[3]\u001b[39m\u001b[32m, line 26\u001b[39m\n\u001b[32m     24\u001b[39m \u001b[38;5;28;01mimport\u001b[39;00m\u001b[38;5;250m \u001b[39m\u001b[34;01mmatplotlib\u001b[39;00m\u001b[34;01m.\u001b[39;00m\u001b[34;01mpyplot\u001b[39;00m\u001b[38;5;250m \u001b[39m\u001b[38;5;28;01mas\u001b[39;00m\u001b[38;5;250m \u001b[39m\u001b[34;01mplt\u001b[39;00m\n\u001b[32m     25\u001b[39m \u001b[38;5;28;01mimport\u001b[39;00m\u001b[38;5;250m \u001b[39m\u001b[34;01mseaborn\u001b[39;00m\u001b[38;5;250m \u001b[39m\u001b[38;5;28;01mas\u001b[39;00m\u001b[38;5;250m \u001b[39m\u001b[34;01msns\u001b[39;00m\n\u001b[32m---> \u001b[39m\u001b[32m26\u001b[39m \u001b[38;5;28;01mfrom\u001b[39;00m\u001b[38;5;250m \u001b[39m\u001b[34;01msrc\u001b[39;00m\u001b[34;01m.\u001b[39;00m\u001b[34;01mdata_loader\u001b[39;00m\u001b[38;5;250m \u001b[39m\u001b[38;5;28;01mimport\u001b[39;00m load_nasa_climate\n\u001b[32m     28\u001b[39m \u001b[38;5;66;03m# %%\u001b[39;00m\n\u001b[32m     29\u001b[39m \u001b[38;5;28;01mdef\u001b[39;00m\u001b[38;5;250m \u001b[39m\u001b[34mplot_climate_trend\u001b[39m(df: pd.DataFrame, save_path: \u001b[38;5;28mstr\u001b[39m = \u001b[38;5;28;01mNone\u001b[39;00m) -> plt.Figure:\n",
      "\u001b[31mImportError\u001b[39m: cannot import name 'load_nasa_climate' from 'src.data_loader' (c:\\Users\\maksi\\OneDrive\\Documents\\GitHub\\maestro7it_education\\pandas_analytics\\jupter_notebooks\\src\\data_loader.py)"
     ]
    }
   ],
   "source": [
    "\"\"\"\n",
    "Климатические данные (NASA + IPCC)\n",
    "\n",
    "# -*- coding: utf-8 -*-\n",
    "\n",
    "Анализ климатических данных NASA (2000-2025)\n",
    "\n",
    "Особенности:\n",
    "1. Загрузка данных через NASA API\n",
    "2. Визуализация температурного тренда\n",
    "3. Прогноз на 2025 год с использованием полиномиальной регрессии\n",
    "\"\"\"\n",
    "\n",
    "# %%\n",
    "import sys\n",
    "import os\n",
    "\n",
    "# Подняться на один уровень выше для доступа к utils\n",
    "module_path = os.path.abspath(os.path.join('..'))\n",
    "if module_path not in sys.path:\n",
    "    sys.path.append(module_path)\n",
    "\n",
    "import pandas as pd\n",
    "import matplotlib.pyplot as plt\n",
    "import seaborn as sns\n",
    "from src.data_loader import load_nasa_climate\n",
    "\n",
    "# %%\n",
    "def plot_climate_trend(df: pd.DataFrame, save_path: str = None) -> plt.Figure:\n",
    "    \"\"\"\n",
    "    Визуализация климатического тренда с доверительным интервалом\n",
    "\n",
    "    Параметры:\n",
    "    df : pd.DataFrame\n",
    "        Данные из NASA GISTEMP\n",
    "    save_path : str, optional\n",
    "        Путь для сохранения графика\n",
    "\n",
    "    Возвращает:\n",
    "    matplotlib.pyplot.Figure\n",
    "        Объект рисунка с графиком\n",
    "    \"\"\"\n",
    "    sns.set_style(\"whitegrid\")\n",
    "    plt.figure(figsize=(12, 6), dpi=100)\n",
    "    \n",
    "    ax = sns.regplot(\n",
    "        x='Year', \n",
    "        y='Temp', \n",
    "        data=df, \n",
    "        order=2,\n",
    "        ci=95,\n",
    "        scatter_kws={'s': 50, 'alpha': 0.7},\n",
    "        line_kws={'lw': 3}\n",
    "    )\n",
    "    \n",
    "    ax.set_title(\"Глобальное изменение температуры (2000-2025)\", fontsize=14)\n",
    "    ax.set_xlabel(\"Год\", fontsize=12)\n",
    "    ax.set_ylabel(\"ΔT (°C) относительно базового уровня\", fontsize=12)\n",
    "    \n",
    "    if save_path:\n",
    "        plt.savefig(save_path, bbox_inches='tight')\n",
    "    \n",
    "    return ax.get_figure()\n",
    "\n",
    "# %%\n",
    "if __name__ == \"__main__\":\n",
    "    # Загрузка данных\n",
    "    climate_df = load_nasa_climate()\n",
    "    \n",
    "    # Генерация и сохранение графиков\n",
    "    fig = plot_climate_trend(climate_df, save_path=\"../images/climate_trend.png\")\n",
    "    \n",
    "    # Вывод статистики\n",
    "    print(\"Основные статистики:\")\n",
    "    print(climate_df.describe())"
   ]
  }
 ],
 "metadata": {
  "kernelspec": {
   "display_name": "Python 3 (ipykernel)",
   "language": "python",
   "name": "python3"
  },
  "language_info": {
   "codemirror_mode": {
    "name": "ipython",
    "version": 3
   },
   "file_extension": ".py",
   "mimetype": "text/x-python",
   "name": "python",
   "nbconvert_exporter": "python",
   "pygments_lexer": "ipython3",
   "version": "3.13.2"
  }
 },
 "nbformat": 4,
 "nbformat_minor": 4
}
